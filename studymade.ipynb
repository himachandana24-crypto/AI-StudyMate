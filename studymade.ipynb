{
  "nbformat": 4,
  "nbformat_minor": 0,
  "metadata": {
    "colab": {
      "provenance": [],
      "gpuType": "T4"
    },
    "kernelspec": {
      "name": "python3",
      "display_name": "Python 3"
    },
    "language_info": {
      "name": "python"
    },
    "accelerator": "GPU",
    "widgets": {
      "application/vnd.jupyter.widget-state+json": {
        "dac8874deeae4ec798d8ebefee37ad46": {
          "model_module": "@jupyter-widgets/controls",
          "model_name": "HBoxModel",
          "model_module_version": "1.5.0",
          "state": {
            "_dom_classes": [],
            "_model_module": "@jupyter-widgets/controls",
            "_model_module_version": "1.5.0",
            "_model_name": "HBoxModel",
            "_view_count": null,
            "_view_module": "@jupyter-widgets/controls",
            "_view_module_version": "1.5.0",
            "_view_name": "HBoxView",
            "box_style": "",
            "children": [
              "IPY_MODEL_637973b9c6084c499690127f7177cf58",
              "IPY_MODEL_4b9a97a505d8482b89be797f13f09f29",
              "IPY_MODEL_a2bd0dbb5ec9457baf96a68de437068b"
            ],
            "layout": "IPY_MODEL_b0519aea52a64e2e99c622a3203cedf3"
          }
        },
        "637973b9c6084c499690127f7177cf58": {
          "model_module": "@jupyter-widgets/controls",
          "model_name": "HTMLModel",
          "model_module_version": "1.5.0",
          "state": {
            "_dom_classes": [],
            "_model_module": "@jupyter-widgets/controls",
            "_model_module_version": "1.5.0",
            "_model_name": "HTMLModel",
            "_view_count": null,
            "_view_module": "@jupyter-widgets/controls",
            "_view_module_version": "1.5.0",
            "_view_name": "HTMLView",
            "description": "",
            "description_tooltip": null,
            "layout": "IPY_MODEL_11607758d4624b379a5b6a8226d6d35f",
            "placeholder": "​",
            "style": "IPY_MODEL_b3f3da8b29e34cc895e1e8bde0df5f43",
            "value": "Loading checkpoint shards: 100%"
          }
        },
        "4b9a97a505d8482b89be797f13f09f29": {
          "model_module": "@jupyter-widgets/controls",
          "model_name": "FloatProgressModel",
          "model_module_version": "1.5.0",
          "state": {
            "_dom_classes": [],
            "_model_module": "@jupyter-widgets/controls",
            "_model_module_version": "1.5.0",
            "_model_name": "FloatProgressModel",
            "_view_count": null,
            "_view_module": "@jupyter-widgets/controls",
            "_view_module_version": "1.5.0",
            "_view_name": "ProgressView",
            "bar_style": "success",
            "description": "",
            "description_tooltip": null,
            "layout": "IPY_MODEL_5dd6f4ce4797410b92c72713f2071cb5",
            "max": 2,
            "min": 0,
            "orientation": "horizontal",
            "style": "IPY_MODEL_f3c55ef42aa1472aa46f13a6c2780a35",
            "value": 2
          }
        },
        "a2bd0dbb5ec9457baf96a68de437068b": {
          "model_module": "@jupyter-widgets/controls",
          "model_name": "HTMLModel",
          "model_module_version": "1.5.0",
          "state": {
            "_dom_classes": [],
            "_model_module": "@jupyter-widgets/controls",
            "_model_module_version": "1.5.0",
            "_model_name": "HTMLModel",
            "_view_count": null,
            "_view_module": "@jupyter-widgets/controls",
            "_view_module_version": "1.5.0",
            "_view_name": "HTMLView",
            "description": "",
            "description_tooltip": null,
            "layout": "IPY_MODEL_ab0265e0b9d3462d8a02c99142fc4f3d",
            "placeholder": "​",
            "style": "IPY_MODEL_fd310f86132e40e3941b654823bdb26f",
            "value": " 2/2 [00:11&lt;00:00,  4.61s/it]"
          }
        },
        "b0519aea52a64e2e99c622a3203cedf3": {
          "model_module": "@jupyter-widgets/base",
          "model_name": "LayoutModel",
          "model_module_version": "1.2.0",
          "state": {
            "_model_module": "@jupyter-widgets/base",
            "_model_module_version": "1.2.0",
            "_model_name": "LayoutModel",
            "_view_count": null,
            "_view_module": "@jupyter-widgets/base",
            "_view_module_version": "1.2.0",
            "_view_name": "LayoutView",
            "align_content": null,
            "align_items": null,
            "align_self": null,
            "border": null,
            "bottom": null,
            "display": null,
            "flex": null,
            "flex_flow": null,
            "grid_area": null,
            "grid_auto_columns": null,
            "grid_auto_flow": null,
            "grid_auto_rows": null,
            "grid_column": null,
            "grid_gap": null,
            "grid_row": null,
            "grid_template_areas": null,
            "grid_template_columns": null,
            "grid_template_rows": null,
            "height": null,
            "justify_content": null,
            "justify_items": null,
            "left": null,
            "margin": null,
            "max_height": null,
            "max_width": null,
            "min_height": null,
            "min_width": null,
            "object_fit": null,
            "object_position": null,
            "order": null,
            "overflow": null,
            "overflow_x": null,
            "overflow_y": null,
            "padding": null,
            "right": null,
            "top": null,
            "visibility": null,
            "width": null
          }
        },
        "11607758d4624b379a5b6a8226d6d35f": {
          "model_module": "@jupyter-widgets/base",
          "model_name": "LayoutModel",
          "model_module_version": "1.2.0",
          "state": {
            "_model_module": "@jupyter-widgets/base",
            "_model_module_version": "1.2.0",
            "_model_name": "LayoutModel",
            "_view_count": null,
            "_view_module": "@jupyter-widgets/base",
            "_view_module_version": "1.2.0",
            "_view_name": "LayoutView",
            "align_content": null,
            "align_items": null,
            "align_self": null,
            "border": null,
            "bottom": null,
            "display": null,
            "flex": null,
            "flex_flow": null,
            "grid_area": null,
            "grid_auto_columns": null,
            "grid_auto_flow": null,
            "grid_auto_rows": null,
            "grid_column": null,
            "grid_gap": null,
            "grid_row": null,
            "grid_template_areas": null,
            "grid_template_columns": null,
            "grid_template_rows": null,
            "height": null,
            "justify_content": null,
            "justify_items": null,
            "left": null,
            "margin": null,
            "max_height": null,
            "max_width": null,
            "min_height": null,
            "min_width": null,
            "object_fit": null,
            "object_position": null,
            "order": null,
            "overflow": null,
            "overflow_x": null,
            "overflow_y": null,
            "padding": null,
            "right": null,
            "top": null,
            "visibility": null,
            "width": null
          }
        },
        "b3f3da8b29e34cc895e1e8bde0df5f43": {
          "model_module": "@jupyter-widgets/controls",
          "model_name": "DescriptionStyleModel",
          "model_module_version": "1.5.0",
          "state": {
            "_model_module": "@jupyter-widgets/controls",
            "_model_module_version": "1.5.0",
            "_model_name": "DescriptionStyleModel",
            "_view_count": null,
            "_view_module": "@jupyter-widgets/base",
            "_view_module_version": "1.2.0",
            "_view_name": "StyleView",
            "description_width": ""
          }
        },
        "5dd6f4ce4797410b92c72713f2071cb5": {
          "model_module": "@jupyter-widgets/base",
          "model_name": "LayoutModel",
          "model_module_version": "1.2.0",
          "state": {
            "_model_module": "@jupyter-widgets/base",
            "_model_module_version": "1.2.0",
            "_model_name": "LayoutModel",
            "_view_count": null,
            "_view_module": "@jupyter-widgets/base",
            "_view_module_version": "1.2.0",
            "_view_name": "LayoutView",
            "align_content": null,
            "align_items": null,
            "align_self": null,
            "border": null,
            "bottom": null,
            "display": null,
            "flex": null,
            "flex_flow": null,
            "grid_area": null,
            "grid_auto_columns": null,
            "grid_auto_flow": null,
            "grid_auto_rows": null,
            "grid_column": null,
            "grid_gap": null,
            "grid_row": null,
            "grid_template_areas": null,
            "grid_template_columns": null,
            "grid_template_rows": null,
            "height": null,
            "justify_content": null,
            "justify_items": null,
            "left": null,
            "margin": null,
            "max_height": null,
            "max_width": null,
            "min_height": null,
            "min_width": null,
            "object_fit": null,
            "object_position": null,
            "order": null,
            "overflow": null,
            "overflow_x": null,
            "overflow_y": null,
            "padding": null,
            "right": null,
            "top": null,
            "visibility": null,
            "width": null
          }
        },
        "f3c55ef42aa1472aa46f13a6c2780a35": {
          "model_module": "@jupyter-widgets/controls",
          "model_name": "ProgressStyleModel",
          "model_module_version": "1.5.0",
          "state": {
            "_model_module": "@jupyter-widgets/controls",
            "_model_module_version": "1.5.0",
            "_model_name": "ProgressStyleModel",
            "_view_count": null,
            "_view_module": "@jupyter-widgets/base",
            "_view_module_version": "1.2.0",
            "_view_name": "StyleView",
            "bar_color": null,
            "description_width": ""
          }
        },
        "ab0265e0b9d3462d8a02c99142fc4f3d": {
          "model_module": "@jupyter-widgets/base",
          "model_name": "LayoutModel",
          "model_module_version": "1.2.0",
          "state": {
            "_model_module": "@jupyter-widgets/base",
            "_model_module_version": "1.2.0",
            "_model_name": "LayoutModel",
            "_view_count": null,
            "_view_module": "@jupyter-widgets/base",
            "_view_module_version": "1.2.0",
            "_view_name": "LayoutView",
            "align_content": null,
            "align_items": null,
            "align_self": null,
            "border": null,
            "bottom": null,
            "display": null,
            "flex": null,
            "flex_flow": null,
            "grid_area": null,
            "grid_auto_columns": null,
            "grid_auto_flow": null,
            "grid_auto_rows": null,
            "grid_column": null,
            "grid_gap": null,
            "grid_row": null,
            "grid_template_areas": null,
            "grid_template_columns": null,
            "grid_template_rows": null,
            "height": null,
            "justify_content": null,
            "justify_items": null,
            "left": null,
            "margin": null,
            "max_height": null,
            "max_width": null,
            "min_height": null,
            "min_width": null,
            "object_fit": null,
            "object_position": null,
            "order": null,
            "overflow": null,
            "overflow_x": null,
            "overflow_y": null,
            "padding": null,
            "right": null,
            "top": null,
            "visibility": null,
            "width": null
          }
        },
        "fd310f86132e40e3941b654823bdb26f": {
          "model_module": "@jupyter-widgets/controls",
          "model_name": "DescriptionStyleModel",
          "model_module_version": "1.5.0",
          "state": {
            "_model_module": "@jupyter-widgets/controls",
            "_model_module_version": "1.5.0",
            "_model_name": "DescriptionStyleModel",
            "_view_count": null,
            "_view_module": "@jupyter-widgets/base",
            "_view_module_version": "1.2.0",
            "_view_name": "StyleView",
            "description_width": ""
          }
        }
      }
    }
  },
  "cells": [
    {
      "cell_type": "code",
      "execution_count": 1,
      "metadata": {
        "colab": {
          "base_uri": "https://localhost:8080/"
        },
        "id": "GapQVsrgGEqb",
        "outputId": "71524e10-6516-4d64-d16e-d995845d9567"
      },
      "outputs": [
        {
          "output_type": "stream",
          "name": "stdout",
          "text": [
            "\u001b[2K   \u001b[90m━━━━━━━━━━━━━━━━━━━━━━━━━━━━━━━━━━━━━━━━\u001b[0m \u001b[32m31.4/31.4 MB\u001b[0m \u001b[31m55.3 MB/s\u001b[0m eta \u001b[36m0:00:00\u001b[0m\n",
            "\u001b[2K   \u001b[90m━━━━━━━━━━━━━━━━━━━━━━━━━━━━━━━━━━━━━━━━\u001b[0m \u001b[32m24.1/24.1 MB\u001b[0m \u001b[31m67.8 MB/s\u001b[0m eta \u001b[36m0:00:00\u001b[0m\n",
            "\u001b[?25h"
          ]
        }
      ],
      "source": [
        "!pip install torch transformers sentence-transformers faiss-cpu gradio PyMuPDF accelerate --quiet"
      ]
    },
    {
      "cell_type": "markdown",
      "metadata": {
        "id": "11f6b31f"
      },
      "source": [
        "Here's an example of how you can customize the Gradio interface using themes and custom CSS."
      ]
    },
    {
      "cell_type": "code",
      "metadata": {
        "colab": {
          "base_uri": "https://localhost:8080/"
        },
        "id": "b5c49dd6",
        "outputId": "a1c41db9-16ba-4807-b694-5cfd6474f076"
      },
      "source": [
        "!pip install gradio transformers accelerate safetensors pymupdf python-docx -q\n"
      ],
      "execution_count": 9,
      "outputs": [
        {
          "output_type": "stream",
          "name": "stdout",
          "text": [
            "\u001b[?25l   \u001b[90m━━━━━━━━━━━━━━━━━━━━━━━━━━━━━━━━━━━━━━━━\u001b[0m \u001b[32m0.0/253.0 kB\u001b[0m \u001b[31m?\u001b[0m eta \u001b[36m-:--:--\u001b[0m\r\u001b[2K   \u001b[91m━━━━━━━━━━━━━━━━━━━━━━━━━━━━━━━━━━━━━━\u001b[0m\u001b[91m╸\u001b[0m\u001b[90m━\u001b[0m \u001b[32m245.8/253.0 kB\u001b[0m \u001b[31m8.4 MB/s\u001b[0m eta \u001b[36m0:00:01\u001b[0m\r\u001b[2K   \u001b[90m━━━━━━━━━━━━━━━━━━━━━━━━━━━━━━━━━━━━━━━━\u001b[0m \u001b[32m253.0/253.0 kB\u001b[0m \u001b[31m6.1 MB/s\u001b[0m eta \u001b[36m0:00:00\u001b[0m\n",
            "\u001b[?25h"
          ]
        }
      ]
    },
    {
      "cell_type": "markdown",
      "metadata": {
        "id": "04829cbb"
      },
      "source": [
        "You can experiment with different themes and CSS styles to achieve the desired look.\n",
        "\n",
        "Once you share the console errors, I can help you troubleshoot why the application is not displaying output."
      ]
    },
    {
      "cell_type": "code",
      "source": [
        "import gradio as gr\n",
        "import fitz  # PyMuPDF for PDFs\n",
        "import docx  # python-docx for Word files\n",
        "from transformers import pipeline\n",
        "\n",
        "# ---------------- Load Granite Model ----------------\n",
        "qa_pipeline = pipeline(\n",
        "    \"text-generation\",\n",
        "    model=\"ibm-granite/granite-3.3-2b-instruct\", # Corrected model name\n",
        "    device_map=\"auto\"\n",
        ")\n",
        "\n",
        "# ---------------- Helpers ----------------\n",
        "def extract_text_from_pdf(file_path):\n",
        "    text = \"\"\n",
        "    with fitz.open(file_path) as doc:\n",
        "        for page in doc:\n",
        "            text += page.get_text()\n",
        "    return text\n",
        "\n",
        "def extract_text_from_docx(file_path):\n",
        "    doc = docx.Document(file_path)\n",
        "    text = \"\\n\".join([para.text for para in doc.paragraphs])\n",
        "    return text\n",
        "\n",
        "def chunk_text(text, chunk_size=1500, overlap=200):\n",
        "    \"\"\"Split text into overlapping chunks to avoid cutting sentences.\"\"\"\n",
        "    chunks = []\n",
        "    start = 0\n",
        "    while start < len(text):\n",
        "        end = min(start + chunk_size, len(text))\n",
        "        chunks.append(text[start:end])\n",
        "        start += chunk_size - overlap\n",
        "    return chunks\n",
        "\n",
        "# ---------------- Main Function ----------------\n",
        "def answer_from_pdf(file, question):\n",
        "    if file is None:\n",
        "        return \"⚠️ No file uploaded.\", \"N/A\"\n",
        "\n",
        "    try:\n",
        "        if file.name.endswith(\".pdf\"):\n",
        "            text = extract_text_from_pdf(file.name)\n",
        "        elif file.name.endswith(\".docx\"):\n",
        "            text = extract_text_from_docx(file.name)\n",
        "        else:\n",
        "            return \"❌ Unsupported file format. Please upload PDF or DOCX.\", \"N/A\"\n",
        "    except Exception as e:\n",
        "        return f\"⚠️ Error reading file: {str(e)}\", \"N/A\"\n",
        "\n",
        "    # Split document into chunks\n",
        "    chunks = chunk_text(text, chunk_size=1500, overlap=200)\n",
        "\n",
        "    responses = []\n",
        "    try:\n",
        "        if \"summary\" in question.lower():\n",
        "            # Summarize each chunk\n",
        "            for chunk in chunks:\n",
        "                prompt = f\"Summarize this part of study material:\\n\\n{chunk}\"\n",
        "                result = qa_pipeline(prompt, max_new_tokens=300, do_sample=False)[0][\"generated_text\"]\n",
        "                responses.append(result)\n",
        "\n",
        "            # Merge into one overall summary\n",
        "            final_prompt = \"Combine these summaries into one clear and concise summary:\\n\\n\" + \"\\n\".join(responses)\n",
        "            final_answer = qa_pipeline(final_prompt, max_new_tokens=400, do_sample=False)[0][\"generated_text\"]\n",
        "            return final_answer, \"📘 Granite (chunked summarization)\"\n",
        "        else:\n",
        "            # Answer Q&A from chunks\n",
        "            for chunk in chunks[:5]:  # limit to first 5 chunks for speed\n",
        "                prompt = f\"Context:\\n{chunk}\\n\\nQuestion: {question}\\nAnswer clearly.\"\n",
        "                result = qa_pipeline(prompt, max_new_tokens=300, do_sample=False)[0][\"generated_text\"]\n",
        "                responses.append(result)\n",
        "\n",
        "            final_answer = \"\\n\\n\".join(responses)\n",
        "            return final_answer, f\"💡 Granite (chunked Q&A, used {len(chunks[:5])} chunks)\"\n",
        "    except Exception as e:\n",
        "        return f\"⚠️ Error from Granite model: {str(e)}\", \"N/A\"\n",
        "\n",
        "# ---------------- Beautiful UI ----------------\n",
        "custom_css = \"\"\"\n",
        "body {\n",
        "  background: linear-gradient(135deg, #f0f9ff, #cbebff);\n",
        "  font-family: 'Segoe UI', Tahoma, Geneva, Verdana, sans-serif;\n",
        "}\n",
        "#title {\n",
        "  text-align: center;\n",
        "  font-size: 2.2em;\n",
        "  color: #1f3b73;\n",
        "  margin-bottom: 10px;\n",
        "}\n",
        "#desc {\n",
        "  text-align: center;\n",
        "  font-size: 1.1em;\n",
        "  margin-bottom: 20px;\n",
        "  color: #333;\n",
        "}\n",
        ".gradio-container {\n",
        "  max-width: 950px !important;\n",
        "  margin: auto;\n",
        "  border-radius: 20px;\n",
        "  padding: 20px;\n",
        "  box-shadow: 0 8px 25px rgba(0,0,0,0.15);\n",
        "  background: white;\n",
        "}\n",
        "textarea {\n",
        "  border-radius: 12px !important;\n",
        "  padding: 12px !important;\n",
        "  font-size: 1em !important;\n",
        "}\n",
        "input[type=file] {\n",
        "  border-radius: 12px !important;\n",
        "}\n",
        "\"\"\"\n",
        "\n",
        "with gr.Blocks(css=custom_css, theme=gr.themes.Soft()) as iface:\n",
        "    with gr.Column():\n",
        "        gr.HTML(\"<h1 id='title'>📚 StudyMate – AI Academic Assistant</h1>\")\n",
        "        gr.HTML(\"<p id='desc'>Upload your study materials (PDF/DOCX) and ask questions. Powered by <b>IBM Granite (Hugging Face)</b>.</p>\")\n",
        "\n",
        "        with gr.Row():\n",
        "            file_input = gr.File(label=\"📂 Upload PDF or DOCX\", file_types=[\".pdf\", \".docx\"])\n",
        "\n",
        "        question_input = gr.Textbox(\n",
        "            lines=2,\n",
        "            placeholder=\"Type your question here (e.g., 'Give me a summary')\",\n",
        "            label=\"❓ Your Question\"\n",
        "        )\n",
        "\n",
        "        with gr.Row():\n",
        "            answer_output = gr.Textbox(label=\"📝 Answer\", lines=10)\n",
        "            context_output = gr.Textbox(label=\"📖 Context Used\", lines=2)\n",
        "\n",
        "        submit_btn = gr.Button(\"🚀 Get Answer\", variant=\"primary\")\n",
        "\n",
        "        submit_btn.click(\n",
        "            fn=answer_from_pdf,\n",
        "            inputs=[file_input, question_input],\n",
        "            outputs=[answer_output, context_output]\n",
        "        )\n",
        "\n",
        "iface.launch(share=True)"
      ],
      "metadata": {
        "colab": {
          "base_uri": "https://localhost:8080/",
          "height": 660,
          "referenced_widgets": [
            "dac8874deeae4ec798d8ebefee37ad46",
            "637973b9c6084c499690127f7177cf58",
            "4b9a97a505d8482b89be797f13f09f29",
            "a2bd0dbb5ec9457baf96a68de437068b",
            "b0519aea52a64e2e99c622a3203cedf3",
            "11607758d4624b379a5b6a8226d6d35f",
            "b3f3da8b29e34cc895e1e8bde0df5f43",
            "5dd6f4ce4797410b92c72713f2071cb5",
            "f3c55ef42aa1472aa46f13a6c2780a35",
            "ab0265e0b9d3462d8a02c99142fc4f3d",
            "fd310f86132e40e3941b654823bdb26f"
          ]
        },
        "id": "TI_W_IlAMnWj",
        "outputId": "e073fe2f-b018-4ded-c06b-ff58e3f25b7d"
      },
      "execution_count": 11,
      "outputs": [
        {
          "output_type": "display_data",
          "data": {
            "text/plain": [
              "Loading checkpoint shards:   0%|          | 0/2 [00:00<?, ?it/s]"
            ],
            "application/vnd.jupyter.widget-view+json": {
              "version_major": 2,
              "version_minor": 0,
              "model_id": "dac8874deeae4ec798d8ebefee37ad46"
            }
          },
          "metadata": {}
        },
        {
          "output_type": "stream",
          "name": "stderr",
          "text": [
            "Device set to use cuda:0\n"
          ]
        },
        {
          "output_type": "stream",
          "name": "stdout",
          "text": [
            "Colab notebook detected. To show errors in colab notebook, set debug=True in launch()\n",
            "* Running on public URL: https://4cd9ee78161ae60cfa.gradio.live\n",
            "\n",
            "This share link expires in 1 week. For free permanent hosting and GPU upgrades, run `gradio deploy` from the terminal in the working directory to deploy to Hugging Face Spaces (https://huggingface.co/spaces)\n"
          ]
        },
        {
          "output_type": "display_data",
          "data": {
            "text/plain": [
              "<IPython.core.display.HTML object>"
            ],
            "text/html": [
              "<div><iframe src=\"https://4cd9ee78161ae60cfa.gradio.live\" width=\"100%\" height=\"500\" allow=\"autoplay; camera; microphone; clipboard-read; clipboard-write;\" frameborder=\"0\" allowfullscreen></iframe></div>"
            ]
          },
          "metadata": {}
        },
        {
          "output_type": "execute_result",
          "data": {
            "text/plain": []
          },
          "metadata": {},
          "execution_count": 11
        }
      ]
    }
  ]
}